{
 "cells": [
  {
   "cell_type": "code",
   "execution_count": 1,
   "metadata": {
    "collapsed": true
   },
   "outputs": [],
   "source": [
    "import os\n",
    "from tqdm import tqdm\n",
    "import json\n",
    "import gc\n",
    "import numpy as np\n",
    "import pandas as pd\n",
    "\n",
    "pd.options.display.max_columns = 999\n",
    "\n",
    "%load_ext autoreload\n",
    "%autoreload 2"
   ]
  },
  {
   "cell_type": "code",
   "execution_count": 2,
   "metadata": {},
   "outputs": [
    {
     "data": {
      "text/plain": [
       "266"
      ]
     },
     "execution_count": 2,
     "metadata": {},
     "output_type": "execute_result"
    }
   ],
   "source": [
    "data = pd.read_sas('./master.sas7bdat')\n",
    "gc.collect()"
   ]
  },
  {
   "cell_type": "code",
   "execution_count": 3,
   "metadata": {
    "collapsed": true
   },
   "outputs": [],
   "source": [
    "target_var = 'censor_po'"
   ]
  },
  {
   "cell_type": "code",
   "execution_count": 4,
   "metadata": {},
   "outputs": [
    {
     "data": {
      "text/plain": [
       "(4826, 65)"
      ]
     },
     "execution_count": 4,
     "metadata": {},
     "output_type": "execute_result"
    }
   ],
   "source": [
    "data.shape"
   ]
  },
  {
   "cell_type": "code",
   "execution_count": 5,
   "metadata": {},
   "outputs": [
    {
     "data": {
      "text/html": [
       "<div>\n",
       "<table border=\"1\" class=\"dataframe\">\n",
       "  <thead>\n",
       "    <tr style=\"text-align: right;\">\n",
       "      <th></th>\n",
       "      <th>female</th>\n",
       "      <th>baseline_age</th>\n",
       "      <th>cvd_hx_baseline</th>\n",
       "      <th>raceclass</th>\n",
       "      <th>edu</th>\n",
       "      <th>yrsdiab</th>\n",
       "      <th>ulcer</th>\n",
       "      <th>protein</th>\n",
       "      <th>hartfail</th>\n",
       "      <th>neuropat</th>\n",
       "      <th>depressn</th>\n",
       "      <th>eyedisea</th>\n",
       "      <th>histhart</th>\n",
       "      <th>cigarett</th>\n",
       "      <th>alcohol</th>\n",
       "      <th>wt_kg</th>\n",
       "      <th>ht_cm</th>\n",
       "      <th>waist_cm</th>\n",
       "      <th>ffilam</th>\n",
       "      <th>MNSIscor</th>\n",
       "      <th>feeling</th>\n",
       "      <th>censor_po</th>\n",
       "      <th>fuyrs_po</th>\n",
       "      <th>sbp</th>\n",
       "      <th>dbp</th>\n",
       "      <th>hr</th>\n",
       "      <th>potassium</th>\n",
       "      <th>a2rb</th>\n",
       "      <th>acei</th>\n",
       "      <th>beta_blocker</th>\n",
       "      <th>sulfonylurea</th>\n",
       "      <th>biguanide</th>\n",
       "      <th>nphl_insulin</th>\n",
       "      <th>tzd</th>\n",
       "      <th>statin</th>\n",
       "      <th>aspirin</th>\n",
       "      <th>anti_depress</th>\n",
       "      <th>hba1c</th>\n",
       "      <th>chol</th>\n",
       "      <th>trig</th>\n",
       "      <th>vldl</th>\n",
       "      <th>ldl</th>\n",
       "      <th>hdl</th>\n",
       "      <th>fpg</th>\n",
       "      <th>alt</th>\n",
       "      <th>cpk</th>\n",
       "      <th>screat</th>\n",
       "      <th>gfr</th>\n",
       "      <th>ualb</th>\n",
       "      <th>ucreat</th>\n",
       "      <th>uacr</th>\n",
       "      <th>g1check</th>\n",
       "      <th>g17days</th>\n",
       "      <th>g1warn</th>\n",
       "      <th>g1asleep</th>\n",
       "      <th>HUI3Scor</th>\n",
       "      <th>HUI2pf</th>\n",
       "      <th>diuretics</th>\n",
       "      <th>cblocker</th>\n",
       "      <th>cvdmed</th>\n",
       "      <th>dmmed</th>\n",
       "      <th>insulin</th>\n",
       "      <th>lipidmed</th>\n",
       "      <th>anti_co_in</th>\n",
       "      <th>supplement</th>\n",
       "    </tr>\n",
       "  </thead>\n",
       "  <tbody>\n",
       "    <tr>\n",
       "      <th>3922</th>\n",
       "      <td>0.0</td>\n",
       "      <td>55.2</td>\n",
       "      <td>0.0</td>\n",
       "      <td>b'White'</td>\n",
       "      <td>1.0</td>\n",
       "      <td>5.0</td>\n",
       "      <td>2.0</td>\n",
       "      <td>2.0</td>\n",
       "      <td>2.0</td>\n",
       "      <td>2.0</td>\n",
       "      <td>2.0</td>\n",
       "      <td>2.0</td>\n",
       "      <td>1.0</td>\n",
       "      <td>2.0</td>\n",
       "      <td>0.0</td>\n",
       "      <td>112.900000</td>\n",
       "      <td>180.1</td>\n",
       "      <td>114.300000</td>\n",
       "      <td>0.5</td>\n",
       "      <td>3.0</td>\n",
       "      <td>75.0</td>\n",
       "      <td>1.0</td>\n",
       "      <td>5.347945</td>\n",
       "      <td>128.0</td>\n",
       "      <td>70.0</td>\n",
       "      <td>80.0</td>\n",
       "      <td>4.24</td>\n",
       "      <td>0.0</td>\n",
       "      <td>0.0</td>\n",
       "      <td>0.0</td>\n",
       "      <td>1.0</td>\n",
       "      <td>0.0</td>\n",
       "      <td>0.0</td>\n",
       "      <td>0.0</td>\n",
       "      <td>1.0</td>\n",
       "      <td>0.0</td>\n",
       "      <td>0.0</td>\n",
       "      <td>9.0</td>\n",
       "      <td>201.0</td>\n",
       "      <td>220.0</td>\n",
       "      <td>44.0</td>\n",
       "      <td>129.0</td>\n",
       "      <td>28.0</td>\n",
       "      <td>165.0</td>\n",
       "      <td>36.0</td>\n",
       "      <td>49.0</td>\n",
       "      <td>1.0</td>\n",
       "      <td>82.4</td>\n",
       "      <td>1.29</td>\n",
       "      <td>86.3</td>\n",
       "      <td>15.0</td>\n",
       "      <td>14.0</td>\n",
       "      <td>0.0</td>\n",
       "      <td>3.0</td>\n",
       "      <td>2.0</td>\n",
       "      <td>0.854345</td>\n",
       "      <td>0.917575</td>\n",
       "      <td>0.0</td>\n",
       "      <td>0.0</td>\n",
       "      <td>0.0</td>\n",
       "      <td>0.0</td>\n",
       "      <td>0.0</td>\n",
       "      <td>0.0</td>\n",
       "      <td>0.0</td>\n",
       "      <td>1.0</td>\n",
       "    </tr>\n",
       "    <tr>\n",
       "      <th>778</th>\n",
       "      <td>0.0</td>\n",
       "      <td>56.1</td>\n",
       "      <td>1.0</td>\n",
       "      <td>b'Other'</td>\n",
       "      <td>4.0</td>\n",
       "      <td>8.0</td>\n",
       "      <td>2.0</td>\n",
       "      <td>2.0</td>\n",
       "      <td>2.0</td>\n",
       "      <td>1.0</td>\n",
       "      <td>2.0</td>\n",
       "      <td>2.0</td>\n",
       "      <td>2.0</td>\n",
       "      <td>1.0</td>\n",
       "      <td>4.0</td>\n",
       "      <td>107.000000</td>\n",
       "      <td>173.0</td>\n",
       "      <td>117.000000</td>\n",
       "      <td>0.0</td>\n",
       "      <td>2.5</td>\n",
       "      <td>85.0</td>\n",
       "      <td>1.0</td>\n",
       "      <td>6.295890</td>\n",
       "      <td>161.0</td>\n",
       "      <td>89.0</td>\n",
       "      <td>69.0</td>\n",
       "      <td>4.99</td>\n",
       "      <td>0.0</td>\n",
       "      <td>1.0</td>\n",
       "      <td>1.0</td>\n",
       "      <td>1.0</td>\n",
       "      <td>1.0</td>\n",
       "      <td>0.0</td>\n",
       "      <td>1.0</td>\n",
       "      <td>0.0</td>\n",
       "      <td>1.0</td>\n",
       "      <td>0.0</td>\n",
       "      <td>9.3</td>\n",
       "      <td>175.0</td>\n",
       "      <td>244.0</td>\n",
       "      <td>49.0</td>\n",
       "      <td>83.0</td>\n",
       "      <td>43.0</td>\n",
       "      <td>189.0</td>\n",
       "      <td>42.0</td>\n",
       "      <td>83.0</td>\n",
       "      <td>1.0</td>\n",
       "      <td>82.1</td>\n",
       "      <td>2.97</td>\n",
       "      <td>180.8</td>\n",
       "      <td>16.0</td>\n",
       "      <td>14.0</td>\n",
       "      <td>0.0</td>\n",
       "      <td>3.0</td>\n",
       "      <td>2.0</td>\n",
       "      <td>0.972580</td>\n",
       "      <td>0.947500</td>\n",
       "      <td>0.0</td>\n",
       "      <td>1.0</td>\n",
       "      <td>0.0</td>\n",
       "      <td>0.0</td>\n",
       "      <td>0.0</td>\n",
       "      <td>0.0</td>\n",
       "      <td>0.0</td>\n",
       "      <td>0.0</td>\n",
       "    </tr>\n",
       "    <tr>\n",
       "      <th>2468</th>\n",
       "      <td>1.0</td>\n",
       "      <td>55.2</td>\n",
       "      <td>0.0</td>\n",
       "      <td>b'White'</td>\n",
       "      <td>3.0</td>\n",
       "      <td>20.0</td>\n",
       "      <td>2.0</td>\n",
       "      <td>1.0</td>\n",
       "      <td>2.0</td>\n",
       "      <td>2.0</td>\n",
       "      <td>1.0</td>\n",
       "      <td>1.0</td>\n",
       "      <td>1.0</td>\n",
       "      <td>2.0</td>\n",
       "      <td>0.0</td>\n",
       "      <td>78.300003</td>\n",
       "      <td>170.0</td>\n",
       "      <td>98.300003</td>\n",
       "      <td>0.0</td>\n",
       "      <td>0.0</td>\n",
       "      <td>80.0</td>\n",
       "      <td>1.0</td>\n",
       "      <td>5.293151</td>\n",
       "      <td>136.0</td>\n",
       "      <td>69.0</td>\n",
       "      <td>77.0</td>\n",
       "      <td>4.05</td>\n",
       "      <td>0.0</td>\n",
       "      <td>1.0</td>\n",
       "      <td>0.0</td>\n",
       "      <td>0.0</td>\n",
       "      <td>1.0</td>\n",
       "      <td>1.0</td>\n",
       "      <td>0.0</td>\n",
       "      <td>1.0</td>\n",
       "      <td>0.0</td>\n",
       "      <td>1.0</td>\n",
       "      <td>9.0</td>\n",
       "      <td>165.0</td>\n",
       "      <td>179.0</td>\n",
       "      <td>36.0</td>\n",
       "      <td>90.0</td>\n",
       "      <td>39.0</td>\n",
       "      <td>235.0</td>\n",
       "      <td>24.0</td>\n",
       "      <td>87.0</td>\n",
       "      <td>0.9</td>\n",
       "      <td>69.0</td>\n",
       "      <td>3.02</td>\n",
       "      <td>117.6</td>\n",
       "      <td>26.0</td>\n",
       "      <td>14.0</td>\n",
       "      <td>0.0</td>\n",
       "      <td>3.0</td>\n",
       "      <td>2.0</td>\n",
       "      <td>0.688413</td>\n",
       "      <td>0.804853</td>\n",
       "      <td>1.0</td>\n",
       "      <td>0.0</td>\n",
       "      <td>0.0</td>\n",
       "      <td>0.0</td>\n",
       "      <td>1.0</td>\n",
       "      <td>0.0</td>\n",
       "      <td>0.0</td>\n",
       "      <td>1.0</td>\n",
       "    </tr>\n",
       "  </tbody>\n",
       "</table>\n",
       "</div>"
      ],
      "text/plain": [
       "      female  baseline_age  cvd_hx_baseline raceclass  edu  yrsdiab  ulcer  \\\n",
       "3922     0.0          55.2              0.0  b'White'  1.0      5.0    2.0   \n",
       "778      0.0          56.1              1.0  b'Other'  4.0      8.0    2.0   \n",
       "2468     1.0          55.2              0.0  b'White'  3.0     20.0    2.0   \n",
       "\n",
       "      protein  hartfail  neuropat  depressn  eyedisea  histhart  cigarett  \\\n",
       "3922      2.0       2.0       2.0       2.0       2.0       1.0       2.0   \n",
       "778       2.0       2.0       1.0       2.0       2.0       2.0       1.0   \n",
       "2468      1.0       2.0       2.0       1.0       1.0       1.0       2.0   \n",
       "\n",
       "      alcohol       wt_kg  ht_cm    waist_cm  ffilam  MNSIscor  feeling  \\\n",
       "3922      0.0  112.900000  180.1  114.300000     0.5       3.0     75.0   \n",
       "778       4.0  107.000000  173.0  117.000000     0.0       2.5     85.0   \n",
       "2468      0.0   78.300003  170.0   98.300003     0.0       0.0     80.0   \n",
       "\n",
       "      censor_po  fuyrs_po    sbp   dbp    hr  potassium  a2rb  acei  \\\n",
       "3922        1.0  5.347945  128.0  70.0  80.0       4.24   0.0   0.0   \n",
       "778         1.0  6.295890  161.0  89.0  69.0       4.99   0.0   1.0   \n",
       "2468        1.0  5.293151  136.0  69.0  77.0       4.05   0.0   1.0   \n",
       "\n",
       "      beta_blocker  sulfonylurea  biguanide  nphl_insulin  tzd  statin  \\\n",
       "3922           0.0           1.0        0.0           0.0  0.0     1.0   \n",
       "778            1.0           1.0        1.0           0.0  1.0     0.0   \n",
       "2468           0.0           0.0        1.0           1.0  0.0     1.0   \n",
       "\n",
       "      aspirin  anti_depress  hba1c   chol   trig  vldl    ldl   hdl    fpg  \\\n",
       "3922      0.0           0.0    9.0  201.0  220.0  44.0  129.0  28.0  165.0   \n",
       "778       1.0           0.0    9.3  175.0  244.0  49.0   83.0  43.0  189.0   \n",
       "2468      0.0           1.0    9.0  165.0  179.0  36.0   90.0  39.0  235.0   \n",
       "\n",
       "       alt   cpk  screat   gfr  ualb  ucreat  uacr  g1check  g17days  g1warn  \\\n",
       "3922  36.0  49.0     1.0  82.4  1.29    86.3  15.0     14.0      0.0     3.0   \n",
       "778   42.0  83.0     1.0  82.1  2.97   180.8  16.0     14.0      0.0     3.0   \n",
       "2468  24.0  87.0     0.9  69.0  3.02   117.6  26.0     14.0      0.0     3.0   \n",
       "\n",
       "      g1asleep  HUI3Scor    HUI2pf  diuretics  cblocker  cvdmed  dmmed  \\\n",
       "3922       2.0  0.854345  0.917575        0.0       0.0     0.0    0.0   \n",
       "778        2.0  0.972580  0.947500        0.0       1.0     0.0    0.0   \n",
       "2468       2.0  0.688413  0.804853        1.0       0.0     0.0    0.0   \n",
       "\n",
       "      insulin  lipidmed  anti_co_in  supplement  \n",
       "3922      0.0       0.0         0.0         1.0  \n",
       "778       0.0       0.0         0.0         0.0  \n",
       "2468      1.0       0.0         0.0         1.0  "
      ]
     },
     "execution_count": 5,
     "metadata": {},
     "output_type": "execute_result"
    }
   ],
   "source": [
    "data.sample(3)"
   ]
  },
  {
   "cell_type": "code",
   "execution_count": 6,
   "metadata": {},
   "outputs": [
    {
     "name": "stdout",
     "output_type": "stream",
     "text": [
      "['raceclass']\n"
     ]
    }
   ],
   "source": [
    "cat_vars = [ele for ele in data.columns.tolist() if data[ele].dtype==\"O\"]\n",
    "print(cat_vars)"
   ]
  },
  {
   "cell_type": "code",
   "execution_count": 7,
   "metadata": {},
   "outputs": [
    {
     "data": {
      "text/plain": [
       "b'White'       3031\n",
       "b'Black'        866\n",
       "b'Other'        616\n",
       "b'Hispanic'     313\n",
       "Name: raceclass, dtype: int64"
      ]
     },
     "execution_count": 7,
     "metadata": {},
     "output_type": "execute_result"
    }
   ],
   "source": [
    "data['raceclass'].value_counts()"
   ]
  },
  {
   "cell_type": "code",
   "execution_count": 8,
   "metadata": {},
   "outputs": [
    {
     "data": {
      "text/plain": [
       "Series([], dtype: int64)"
      ]
     },
     "execution_count": 8,
     "metadata": {},
     "output_type": "execute_result"
    }
   ],
   "source": [
    "null_values = data.isnull().sum()\n",
    "null_values[null_values>0]"
   ]
  },
  {
   "cell_type": "code",
   "execution_count": 9,
   "metadata": {
    "collapsed": true
   },
   "outputs": [],
   "source": [
    "from sklearn.preprocessing import *"
   ]
  },
  {
   "cell_type": "code",
   "execution_count": 10,
   "metadata": {
    "collapsed": true
   },
   "outputs": [],
   "source": [
    "def label_encoding(input_data, col):\n",
    "    try:\n",
    "        print(\"Label encoding {}...\".format(col))\n",
    "        le = LabelEncoder()\n",
    "        output = le.fit_transform(input_data[col])\n",
    "        print(\"Finished.\")\n",
    "        return output\n",
    "    except Exception as e:\n",
    "        _err_msg = \"Failed in label encoding. Error: {}\".format(e)\n",
    "        print(_err_msg); raise"
   ]
  },
  {
   "cell_type": "code",
   "execution_count": 11,
   "metadata": {},
   "outputs": [
    {
     "name": "stdout",
     "output_type": "stream",
     "text": [
      "Label encoding raceclass...\n",
      "Finished.\n"
     ]
    }
   ],
   "source": [
    "encoded_data = label_encoding(data, 'raceclass')"
   ]
  },
  {
   "cell_type": "code",
   "execution_count": 12,
   "metadata": {
    "collapsed": true
   },
   "outputs": [],
   "source": [
    "data['raceclass'] = encoded_data"
   ]
  },
  {
   "cell_type": "code",
   "execution_count": 13,
   "metadata": {},
   "outputs": [
    {
     "data": {
      "text/plain": [
       "1.0    0.810816\n",
       "0.0    0.189184\n",
       "Name: censor_po, dtype: float64"
      ]
     },
     "execution_count": 13,
     "metadata": {},
     "output_type": "execute_result"
    }
   ],
   "source": [
    "data[target_var].value_counts() / data.shape[0]"
   ]
  },
  {
   "cell_type": "code",
   "execution_count": 14,
   "metadata": {},
   "outputs": [
    {
     "ename": "OSError",
     "evalue": "dlopen(/Users/xwl/anaconda/lib/python3.5/site-packages/lightgbm/lib_lightgbm.so, 6): Library not loaded: /usr/local/opt/libomp/lib/libomp.dylib\n  Referenced from: /Users/xwl/anaconda/lib/python3.5/site-packages/lightgbm/lib_lightgbm.so\n  Reason: image not found",
     "output_type": "error",
     "traceback": [
      "\u001b[0;31m---------------------------------------------------------------------------\u001b[0m",
      "\u001b[0;31mOSError\u001b[0m                                   Traceback (most recent call last)",
      "\u001b[0;32m<ipython-input-14-2ae3725bef24>\u001b[0m in \u001b[0;36m<module>\u001b[0;34m()\u001b[0m\n\u001b[0;32m----> 1\u001b[0;31m \u001b[0;32mimport\u001b[0m \u001b[0mlightgbm\u001b[0m \u001b[0;32mas\u001b[0m \u001b[0mlgb\u001b[0m\u001b[0;34m\u001b[0m\u001b[0m\n\u001b[0m",
      "\u001b[0;32m/Users/xwl/anaconda/lib/python3.5/site-packages/lightgbm/__init__.py\u001b[0m in \u001b[0;36m<module>\u001b[0;34m()\u001b[0m\n\u001b[1;32m      6\u001b[0m \u001b[0;32mfrom\u001b[0m \u001b[0m__future__\u001b[0m \u001b[0;32mimport\u001b[0m \u001b[0mabsolute_import\u001b[0m\u001b[0;34m\u001b[0m\u001b[0m\n\u001b[1;32m      7\u001b[0m \u001b[0;34m\u001b[0m\u001b[0m\n\u001b[0;32m----> 8\u001b[0;31m \u001b[0;32mfrom\u001b[0m \u001b[0;34m.\u001b[0m\u001b[0mbasic\u001b[0m \u001b[0;32mimport\u001b[0m \u001b[0mBooster\u001b[0m\u001b[0;34m,\u001b[0m \u001b[0mDataset\u001b[0m\u001b[0;34m\u001b[0m\u001b[0m\n\u001b[0m\u001b[1;32m      9\u001b[0m from .callback import (early_stopping, print_evaluation, record_evaluation,\n\u001b[1;32m     10\u001b[0m                        reset_parameter)\n",
      "\u001b[0;32m/Users/xwl/anaconda/lib/python3.5/site-packages/lightgbm/basic.py\u001b[0m in \u001b[0;36m<module>\u001b[0;34m()\u001b[0m\n\u001b[1;32m     32\u001b[0m \u001b[0;34m\u001b[0m\u001b[0m\n\u001b[1;32m     33\u001b[0m \u001b[0;34m\u001b[0m\u001b[0m\n\u001b[0;32m---> 34\u001b[0;31m \u001b[0m_LIB\u001b[0m \u001b[0;34m=\u001b[0m \u001b[0m_load_lib\u001b[0m\u001b[0;34m(\u001b[0m\u001b[0;34m)\u001b[0m\u001b[0;34m\u001b[0m\u001b[0m\n\u001b[0m\u001b[1;32m     35\u001b[0m \u001b[0;34m\u001b[0m\u001b[0m\n\u001b[1;32m     36\u001b[0m \u001b[0;34m\u001b[0m\u001b[0m\n",
      "\u001b[0;32m/Users/xwl/anaconda/lib/python3.5/site-packages/lightgbm/basic.py\u001b[0m in \u001b[0;36m_load_lib\u001b[0;34m()\u001b[0m\n\u001b[1;32m     27\u001b[0m     \u001b[0;32mif\u001b[0m \u001b[0mlen\u001b[0m\u001b[0;34m(\u001b[0m\u001b[0mlib_path\u001b[0m\u001b[0;34m)\u001b[0m \u001b[0;34m==\u001b[0m \u001b[0;36m0\u001b[0m\u001b[0;34m:\u001b[0m\u001b[0;34m\u001b[0m\u001b[0m\n\u001b[1;32m     28\u001b[0m         \u001b[0;32mreturn\u001b[0m \u001b[0;32mNone\u001b[0m\u001b[0;34m\u001b[0m\u001b[0m\n\u001b[0;32m---> 29\u001b[0;31m     \u001b[0mlib\u001b[0m \u001b[0;34m=\u001b[0m \u001b[0mctypes\u001b[0m\u001b[0;34m.\u001b[0m\u001b[0mcdll\u001b[0m\u001b[0;34m.\u001b[0m\u001b[0mLoadLibrary\u001b[0m\u001b[0;34m(\u001b[0m\u001b[0mlib_path\u001b[0m\u001b[0;34m[\u001b[0m\u001b[0;36m0\u001b[0m\u001b[0;34m]\u001b[0m\u001b[0;34m)\u001b[0m\u001b[0;34m\u001b[0m\u001b[0m\n\u001b[0m\u001b[1;32m     30\u001b[0m     \u001b[0mlib\u001b[0m\u001b[0;34m.\u001b[0m\u001b[0mLGBM_GetLastError\u001b[0m\u001b[0;34m.\u001b[0m\u001b[0mrestype\u001b[0m \u001b[0;34m=\u001b[0m \u001b[0mctypes\u001b[0m\u001b[0;34m.\u001b[0m\u001b[0mc_char_p\u001b[0m\u001b[0;34m\u001b[0m\u001b[0m\n\u001b[1;32m     31\u001b[0m     \u001b[0;32mreturn\u001b[0m \u001b[0mlib\u001b[0m\u001b[0;34m\u001b[0m\u001b[0m\n",
      "\u001b[0;32m/Users/xwl/anaconda/lib/python3.5/ctypes/__init__.py\u001b[0m in \u001b[0;36mLoadLibrary\u001b[0;34m(self, name)\u001b[0m\n\u001b[1;32m    423\u001b[0m \u001b[0;34m\u001b[0m\u001b[0m\n\u001b[1;32m    424\u001b[0m     \u001b[0;32mdef\u001b[0m \u001b[0mLoadLibrary\u001b[0m\u001b[0;34m(\u001b[0m\u001b[0mself\u001b[0m\u001b[0;34m,\u001b[0m \u001b[0mname\u001b[0m\u001b[0;34m)\u001b[0m\u001b[0;34m:\u001b[0m\u001b[0;34m\u001b[0m\u001b[0m\n\u001b[0;32m--> 425\u001b[0;31m         \u001b[0;32mreturn\u001b[0m \u001b[0mself\u001b[0m\u001b[0;34m.\u001b[0m\u001b[0m_dlltype\u001b[0m\u001b[0;34m(\u001b[0m\u001b[0mname\u001b[0m\u001b[0;34m)\u001b[0m\u001b[0;34m\u001b[0m\u001b[0m\n\u001b[0m\u001b[1;32m    426\u001b[0m \u001b[0;34m\u001b[0m\u001b[0m\n\u001b[1;32m    427\u001b[0m \u001b[0mcdll\u001b[0m \u001b[0;34m=\u001b[0m \u001b[0mLibraryLoader\u001b[0m\u001b[0;34m(\u001b[0m\u001b[0mCDLL\u001b[0m\u001b[0;34m)\u001b[0m\u001b[0;34m\u001b[0m\u001b[0m\n",
      "\u001b[0;32m/Users/xwl/anaconda/lib/python3.5/ctypes/__init__.py\u001b[0m in \u001b[0;36m__init__\u001b[0;34m(self, name, mode, handle, use_errno, use_last_error)\u001b[0m\n\u001b[1;32m    345\u001b[0m \u001b[0;34m\u001b[0m\u001b[0m\n\u001b[1;32m    346\u001b[0m         \u001b[0;32mif\u001b[0m \u001b[0mhandle\u001b[0m \u001b[0;32mis\u001b[0m \u001b[0;32mNone\u001b[0m\u001b[0;34m:\u001b[0m\u001b[0;34m\u001b[0m\u001b[0m\n\u001b[0;32m--> 347\u001b[0;31m             \u001b[0mself\u001b[0m\u001b[0;34m.\u001b[0m\u001b[0m_handle\u001b[0m \u001b[0;34m=\u001b[0m \u001b[0m_dlopen\u001b[0m\u001b[0;34m(\u001b[0m\u001b[0mself\u001b[0m\u001b[0;34m.\u001b[0m\u001b[0m_name\u001b[0m\u001b[0;34m,\u001b[0m \u001b[0mmode\u001b[0m\u001b[0;34m)\u001b[0m\u001b[0;34m\u001b[0m\u001b[0m\n\u001b[0m\u001b[1;32m    348\u001b[0m         \u001b[0;32melse\u001b[0m\u001b[0;34m:\u001b[0m\u001b[0;34m\u001b[0m\u001b[0m\n\u001b[1;32m    349\u001b[0m             \u001b[0mself\u001b[0m\u001b[0;34m.\u001b[0m\u001b[0m_handle\u001b[0m \u001b[0;34m=\u001b[0m \u001b[0mhandle\u001b[0m\u001b[0;34m\u001b[0m\u001b[0m\n",
      "\u001b[0;31mOSError\u001b[0m: dlopen(/Users/xwl/anaconda/lib/python3.5/site-packages/lightgbm/lib_lightgbm.so, 6): Library not loaded: /usr/local/opt/libomp/lib/libomp.dylib\n  Referenced from: /Users/xwl/anaconda/lib/python3.5/site-packages/lightgbm/lib_lightgbm.so\n  Reason: image not found"
     ]
    }
   ],
   "source": [
    "import lightgbm as lgb"
   ]
  },
  {
   "cell_type": "code",
   "execution_count": null,
   "metadata": {
    "collapsed": true
   },
   "outputs": [],
   "source": [
    "lgb_dataset = lgb.Dataset(data.drop(target_var, axis=1), label=data[target_var], categorical_feature='raceclass')"
   ]
  },
  {
   "cell_type": "code",
   "execution_count": null,
   "metadata": {},
   "outputs": [],
   "source": [
    "_lgb_params = {\n",
    "    'num_leaves' : 6,\n",
    "    'max_depth' : 2,\n",
    "    'learning_rate' : 0.01,\n",
    "    # 'n_estimators' : 10000,\n",
    "    'objective' : 'binary' , \n",
    "    # 'metric' : 'auc' ,\n",
    "    'subsample' : 1.0, \n",
    "    'colsample_bytree' : 1.0,\n",
    "    'random_state' : 2019,\n",
    "    'n_jobs' : -1\n",
    "}\n",
    "\n",
    "_lgb_cv_score = lgb.cv(_lgb_params, lgb_dataset, metrics='auc', \n",
    "                      num_boost_round=100, early_stopping_rounds=100, seed=2019, verbose_eval=50)"
   ]
  },
  {
   "cell_type": "code",
   "execution_count": null,
   "metadata": {},
   "outputs": [],
   "source": [
    "_lgb_params = {\n",
    "    'num_leaves' : 6,\n",
    "    'max_depth' : 2,\n",
    "    'learning_rate' : 0.01,\n",
    "    'n_estimators' : 300,\n",
    "    'objective' : 'binary' , \n",
    "    # 'metric' : 'auc' ,\n",
    "    'subsample' : 1.0, \n",
    "    'colsample_bytree' : 1.0,\n",
    "    'random_state' : 2019,\n",
    "    'n_jobs' : -1\n",
    "}\n",
    "\n",
    "_lgb_clf = lgb.LGBMClassifier(**_lgb_params)\n",
    "\n",
    "_lgb_clf.fit(data.drop([target_var], axis=1), data[target_var], eval_metric='auc', \\\n",
    "             eval_set=[[data.drop([target_var], axis=1), data[target_var]]], \\\n",
    "             verbose=50, categorical_feature='raceclass')"
   ]
  },
  {
   "cell_type": "code",
   "execution_count": null,
   "metadata": {
    "collapsed": true
   },
   "outputs": [],
   "source": []
  },
  {
   "cell_type": "code",
   "execution_count": null,
   "metadata": {
    "collapsed": true
   },
   "outputs": [],
   "source": []
  },
  {
   "cell_type": "code",
   "execution_count": null,
   "metadata": {
    "collapsed": true
   },
   "outputs": [],
   "source": []
  },
  {
   "cell_type": "code",
   "execution_count": null,
   "metadata": {
    "collapsed": true
   },
   "outputs": [],
   "source": []
  }
 ],
 "metadata": {
  "kernelspec": {
   "display_name": "Python 3",
   "language": "python",
   "name": "python3"
  },
  "language_info": {
   "codemirror_mode": {
    "name": "ipython",
    "version": 3
   },
   "file_extension": ".py",
   "mimetype": "text/x-python",
   "name": "python",
   "nbconvert_exporter": "python",
   "pygments_lexer": "ipython3",
   "version": "3.5.3"
  }
 },
 "nbformat": 4,
 "nbformat_minor": 2
}

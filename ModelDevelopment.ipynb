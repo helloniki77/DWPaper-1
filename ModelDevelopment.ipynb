{
 "cells": [
  {
   "cell_type": "code",
   "execution_count": 27,
   "metadata": {},
   "outputs": [
    {
     "name": "stdout",
     "output_type": "stream",
     "text": [
      "The autoreload extension is already loaded. To reload it, use:\n",
      "  %reload_ext autoreload\n"
     ]
    }
   ],
   "source": [
    "import os\n",
    "from tqdm import tqdm\n",
    "import json\n",
    "import gc\n",
    "import numpy as np\n",
    "import pandas as pd\n",
    "from sklearn.preprocessing import *\n",
    "from sklearn.svm import *\n",
    "from sklearn.model_selection import train_test_split\n",
    "from sklearn.linear_model import *\n",
    "from sklearn.metrics import *\n",
    "\n",
    "pd.options.display.max_columns = 999\n",
    "\n",
    "%load_ext autoreload\n",
    "%autoreload 2"
   ]
  },
  {
   "cell_type": "code",
   "execution_count": 2,
   "metadata": {},
   "outputs": [
    {
     "data": {
      "text/plain": [
       "250"
      ]
     },
     "execution_count": 2,
     "metadata": {},
     "output_type": "execute_result"
    }
   ],
   "source": [
    "data = pd.read_sas('./master.sas7bdat')\n",
    "gc.collect()"
   ]
  },
  {
   "cell_type": "code",
   "execution_count": 3,
   "metadata": {},
   "outputs": [],
   "source": [
    "target_var = 'censor_po'\n",
    "varstodrop = ['fuyrs_po']\n",
    "\n",
    "data.drop(varstodrop,axis=1, inplace=True)"
   ]
  },
  {
   "cell_type": "code",
   "execution_count": 4,
   "metadata": {},
   "outputs": [
    {
     "name": "stdout",
     "output_type": "stream",
     "text": [
      "['raceclass']\n"
     ]
    }
   ],
   "source": [
    "cat_vars = [ele for ele in data.columns.tolist() if data[ele].dtype==\"O\"]\n",
    "print(cat_vars)"
   ]
  },
  {
   "cell_type": "code",
   "execution_count": 6,
   "metadata": {},
   "outputs": [],
   "source": [
    "def label_encoding(input_data, col):\n",
    "    try:\n",
    "        print(\"Label encoding {}...\".format(col))\n",
    "        le = LabelEncoder()\n",
    "        output = le.fit_transform(input_data[col])\n",
    "        print(\"Finished.\")\n",
    "        return output\n",
    "    except Exception as e:\n",
    "        _err_msg = \"Failed in label encoding. Error: {}\".format(e)\n",
    "        print(_err_msg); raise"
   ]
  },
  {
   "cell_type": "code",
   "execution_count": 8,
   "metadata": {},
   "outputs": [
    {
     "name": "stdout",
     "output_type": "stream",
     "text": [
      "Label encoding raceclass...\n",
      "Finished.\n"
     ]
    }
   ],
   "source": [
    "encoded_data = label_encoding(data, 'raceclass')\n",
    "data['raceclass'] = encoded_data"
   ]
  },
  {
   "cell_type": "code",
   "execution_count": 11,
   "metadata": {},
   "outputs": [
    {
     "name": "stdout",
     "output_type": "stream",
     "text": [
      "make sure no missing values\n",
      "female             0\n",
      "baseline_age       0\n",
      "cvd_hx_baseline    0\n",
      "raceclass          0\n",
      "edu                0\n",
      "yrsdiab            0\n",
      "ulcer              0\n",
      "protein            0\n",
      "hartfail           0\n",
      "neuropat           0\n",
      "depressn           0\n",
      "eyedisea           0\n",
      "histhart           0\n",
      "cigarett           0\n",
      "alcohol            0\n",
      "wt_kg              0\n",
      "ht_cm              0\n",
      "waist_cm           0\n",
      "ffilam             0\n",
      "MNSIscor           0\n",
      "feeling            0\n",
      "censor_po          0\n",
      "sbp                0\n",
      "dbp                0\n",
      "hr                 0\n",
      "potassium          0\n",
      "a2rb               0\n",
      "acei               0\n",
      "beta_blocker       0\n",
      "sulfonylurea       0\n",
      "                  ..\n",
      "aspirin            0\n",
      "anti_depress       0\n",
      "hba1c              0\n",
      "chol               0\n",
      "trig               0\n",
      "vldl               0\n",
      "ldl                0\n",
      "hdl                0\n",
      "fpg                0\n",
      "alt                0\n",
      "cpk                0\n",
      "screat             0\n",
      "gfr                0\n",
      "ualb               0\n",
      "ucreat             0\n",
      "uacr               0\n",
      "g1check            0\n",
      "g17days            0\n",
      "g1warn             0\n",
      "g1asleep           0\n",
      "HUI3Scor           0\n",
      "HUI2pf             0\n",
      "diuretics          0\n",
      "cblocker           0\n",
      "cvdmed             0\n",
      "dmmed              0\n",
      "insulin            0\n",
      "lipidmed           0\n",
      "anti_co_in         0\n",
      "supplement         0\n",
      "Length: 64, dtype: int64\n"
     ]
    }
   ],
   "source": [
    "print(\"make sure no missing values\")\n",
    "missing_vals = data.isnull().sum()\n",
    "print(missing_vals)"
   ]
  },
  {
   "cell_type": "code",
   "execution_count": 15,
   "metadata": {},
   "outputs": [
    {
     "name": "stdout",
     "output_type": "stream",
     "text": [
      "split training and validation data\n"
     ]
    }
   ],
   "source": [
    "print(\"split training and validation data\")\n",
    "train, test = train_test_split(data, test_size=0.3, random_state=2019)"
   ]
  },
  {
   "cell_type": "code",
   "execution_count": 20,
   "metadata": {},
   "outputs": [
    {
     "name": "stdout",
     "output_type": "stream",
     "text": [
      "Check target variable ratio\n",
      "For training:\n",
      "1.0    0.811427\n",
      "0.0    0.188573\n",
      "Name: censor_po, dtype: float64\n",
      "For test:\n",
      "1.0    0.809392\n",
      "0.0    0.190608\n",
      "Name: censor_po, dtype: float64\n",
      "They are very close.\n"
     ]
    }
   ],
   "source": [
    "print(\"Check target variable ratio\")\n",
    "print(\"For training:\")\n",
    "print(train[target_var].value_counts() / train.shape[0])\n",
    "\n",
    "print(\"For test:\")\n",
    "print(test[target_var].value_counts() / test.shape[0])\n",
    "print(\"They are very close.\")"
   ]
  },
  {
   "cell_type": "markdown",
   "metadata": {},
   "source": [
    "### Logictic regression"
   ]
  },
  {
   "cell_type": "code",
   "execution_count": 28,
   "metadata": {},
   "outputs": [],
   "source": [
    "def validate(truth, preds, threshold=0.5):\n",
    "    bin_preds = [1 if ele >= threshold else 0 for ele in preds]\n",
    "    _accurary_score = accuracy_score(truth, bin_preds)\n",
    "    _precision_score = precision_score(truth, bin_preds)\n",
    "    _recall_score = recall_score(truth, bin_preds)\n",
    "    _auc_score = roc_auc_score(truth, preds)\n",
    "    \n",
    "    print(\"Accuracy: {}\".format(_accurary_score))\n",
    "    print(\"Precision: {}\".format(_precision_score))\n",
    "    print(\"Recall: {}\".format(_recall_score))\n",
    "    print(\"AUC: {}\".format(_auc_score))"
   ]
  },
  {
   "cell_type": "code",
   "execution_count": 21,
   "metadata": {},
   "outputs": [
    {
     "name": "stdout",
     "output_type": "stream",
     "text": [
      "Play with feature tuning :)\n"
     ]
    }
   ],
   "source": [
    "print(\"Play with feature tuning :)\")"
   ]
  },
  {
   "cell_type": "code",
   "execution_count": 35,
   "metadata": {},
   "outputs": [
    {
     "name": "stderr",
     "output_type": "stream",
     "text": [
      "/home/david/anaconda3/lib/python3.7/site-packages/sklearn/linear_model/logistic.py:433: FutureWarning: Default solver will be changed to 'lbfgs' in 0.22. Specify a solver to silence this warning.\n",
      "  FutureWarning)\n",
      "/home/david/anaconda3/lib/python3.7/site-packages/sklearn/linear_model/logistic.py:1300: UserWarning: 'n_jobs' > 1 does not have any effect when 'solver' is set to 'liblinear'. Got 'n_jobs' = 12.\n",
      "  \" = {}.\".format(effective_n_jobs(self.n_jobs)))\n"
     ]
    }
   ],
   "source": [
    "lr = LogisticRegression(random_state=2019, max_iter=200, n_jobs=-1)\n",
    "\n",
    "lr.fit(train.drop([target_var], axis=1), train[target_var])\n",
    "\n",
    "lr_tra_preds = lr.predict_proba(train.drop([target_var], axis=1))[:, 1].squeeze()\n",
    "lr_tst_preds = lr.predict_proba(test.drop([target_var], axis=1))[:, 1].squeeze()"
   ]
  },
  {
   "cell_type": "code",
   "execution_count": 36,
   "metadata": {},
   "outputs": [
    {
     "name": "stdout",
     "output_type": "stream",
     "text": [
      "For training: \n",
      "Accuracy: 0.8179396092362344\n",
      "Precision: 0.8264742014742015\n",
      "Recall: 0.9817584823057278\n",
      "AUC: 0.7317717983272787\n",
      "For testing: \n",
      "Accuracy: 0.8080110497237569\n",
      "Precision: 0.8197424892703863\n",
      "Recall: 0.9778156996587031\n",
      "AUC: 0.6624622842162536\n"
     ]
    }
   ],
   "source": [
    "print(\"For training: \")\n",
    "validate(train[target_var], lr_tra_preds)\n",
    "\n",
    "print(\"For testing: \")\n",
    "validate(test[target_var], lr_tst_preds)"
   ]
  },
  {
   "cell_type": "code",
   "execution_count": null,
   "metadata": {},
   "outputs": [],
   "source": []
  },
  {
   "cell_type": "code",
   "execution_count": null,
   "metadata": {},
   "outputs": [],
   "source": []
  },
  {
   "cell_type": "code",
   "execution_count": null,
   "metadata": {},
   "outputs": [],
   "source": []
  },
  {
   "cell_type": "code",
   "execution_count": null,
   "metadata": {},
   "outputs": [],
   "source": []
  },
  {
   "cell_type": "code",
   "execution_count": null,
   "metadata": {},
   "outputs": [],
   "source": []
  },
  {
   "cell_type": "code",
   "execution_count": null,
   "metadata": {},
   "outputs": [],
   "source": []
  },
  {
   "cell_type": "code",
   "execution_count": null,
   "metadata": {},
   "outputs": [],
   "source": []
  },
  {
   "cell_type": "code",
   "execution_count": null,
   "metadata": {},
   "outputs": [],
   "source": []
  }
 ],
 "metadata": {
  "kernelspec": {
   "display_name": "Python 3",
   "language": "python",
   "name": "python3"
  },
  "language_info": {
   "codemirror_mode": {
    "name": "ipython",
    "version": 3
   },
   "file_extension": ".py",
   "mimetype": "text/x-python",
   "name": "python",
   "nbconvert_exporter": "python",
   "pygments_lexer": "ipython3",
   "version": "3.7.3"
  }
 },
 "nbformat": 4,
 "nbformat_minor": 2
}

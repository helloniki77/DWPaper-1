{
 "cells": [
  {
   "cell_type": "code",
   "execution_count": 47,
   "metadata": {},
   "outputs": [],
   "source": [
    "import os\n",
    "import numpy as np\n",
    "import pandas as pd\n",
    "import sksurv\n",
    "from sksurv.linear_model import CoxPHSurvivalAnalysis\n",
    "from sksurv.nonparametric import kaplan_meier_estimator\n",
    "import matplotlib.pyplot as plt\n",
    "from sksurv.metrics import concordance_index_censored\n",
    "    \n",
    "%matplotlib inline"
   ]
  },
  {
   "cell_type": "code",
   "execution_count": 2,
   "metadata": {},
   "outputs": [],
   "source": [
    "os.chdir(\"/Users/helloniki77/Documents/ACCORD\")"
   ]
  },
  {
   "cell_type": "code",
   "execution_count": 3,
   "metadata": {},
   "outputs": [
    {
     "name": "stdout",
     "output_type": "stream",
     "text": [
      "['.DS_Store', 'final_sample.sas7bdat', 'sksurv']\n"
     ]
    }
   ],
   "source": [
    "datapath='/Users/helloniki77/Documents/ACCORD'\n",
    "datafiles=os.listdir(datapath)\n",
    "print(datafiles)"
   ]
  },
  {
   "cell_type": "code",
   "execution_count": 4,
   "metadata": {},
   "outputs": [
    {
     "data": {
      "text/plain": [
       "Index(['MaskID', 'female', 'baseline_age', 'white', 'chol', 'hdl', 'sbp',\n",
       "       'htnmed', 'cigarett', 'event', 'fu'],\n",
       "      dtype='object')"
      ]
     },
     "execution_count": 4,
     "metadata": {},
     "output_type": "execute_result"
    }
   ],
   "source": [
    "finaldata=pd.read_sas(r\"/Users/helloniki77/Documents/ACCORD/final_sample.sas7bdat\")\n",
    "finaldata.keys()"
   ]
  },
  {
   "cell_type": "code",
   "execution_count": null,
   "metadata": {},
   "outputs": [],
   "source": [
    "print(finaldata)"
   ]
  },
  {
   "cell_type": "code",
   "execution_count": null,
   "metadata": {},
   "outputs": [],
   "source": [
    "finaldata.describe()"
   ]
  },
  {
   "cell_type": "code",
   "execution_count": null,
   "metadata": {},
   "outputs": [],
   "source": [
    "finaldata.describe()"
   ]
  },
  {
   "cell_type": "code",
   "execution_count": null,
   "metadata": {},
   "outputs": [],
   "source": [
    "finaldata.sample(3)"
   ]
  },
  {
   "cell_type": "code",
   "execution_count": 5,
   "metadata": {},
   "outputs": [],
   "source": [
    "finaldata['event'] = finaldata['event'].astype(int)"
   ]
  },
  {
   "cell_type": "code",
   "execution_count": null,
   "metadata": {},
   "outputs": [],
   "source": [
    "finaldata['event'].value_counts() / finaldata.shape[0]"
   ]
  },
  {
   "cell_type": "code",
   "execution_count": null,
   "metadata": {},
   "outputs": [],
   "source": []
  },
  {
   "cell_type": "code",
   "execution_count": null,
   "metadata": {},
   "outputs": [],
   "source": []
  },
  {
   "cell_type": "code",
   "execution_count": null,
   "metadata": {},
   "outputs": [],
   "source": []
  },
  {
   "cell_type": "code",
   "execution_count": null,
   "metadata": {},
   "outputs": [],
   "source": []
  },
  {
   "cell_type": "raw",
   "metadata": {},
   "source": []
  },
  {
   "cell_type": "code",
   "execution_count": null,
   "metadata": {},
   "outputs": [],
   "source": []
  },
  {
   "cell_type": "code",
   "execution_count": null,
   "metadata": {},
   "outputs": [],
   "source": []
  },
  {
   "cell_type": "code",
   "execution_count": null,
   "metadata": {},
   "outputs": [],
   "source": [
    "finaldata['has_event']=finaldata['event']\n",
    "a=finaldata['has_event']\n",
    "\n",
    "finaldata['has_event'].head()\n",
    "\n",
    "\n",
    "finaldata['has_event'] = finaldata['has_event'].astype(int).apply(lambda x: True if x==1 else False)\n",
    "finaldata['has_event'] = finaldata['event'].astype(int).apply(lambda x: True if x==1 else False)\n"
   ]
  },
  {
   "cell_type": "code",
   "execution_count": null,
   "metadata": {},
   "outputs": [],
   "source": []
  },
  {
   "cell_type": "code",
   "execution_count": null,
   "metadata": {},
   "outputs": [],
   "source": [
    "finaldata['has_event'].unique()"
   ]
  },
  {
   "cell_type": "code",
   "execution_count": null,
   "metadata": {},
   "outputs": [],
   "source": [
    "finaldata.loc[finaldata['fu']==10.0, 'has_event'] = False"
   ]
  },
  {
   "cell_type": "code",
   "execution_count": null,
   "metadata": {},
   "outputs": [],
   "source": [
    "time, survival_prob = kaplan_meier_estimator(finaldata.has_event,finaldata.fu)\n",
    "plt.step(time,survival_prob, where=\"post\")"
   ]
  },
  {
   "cell_type": "code",
   "execution_count": null,
   "metadata": {
    "scrolled": true
   },
   "outputs": [],
   "source": [
    "finaldata[finaldata['fu']==10]['has_event'].value_counts()"
   ]
  },
  {
   "cell_type": "code",
   "execution_count": null,
   "metadata": {},
   "outputs": [],
   "source": []
  },
  {
   "cell_type": "code",
   "execution_count": null,
   "metadata": {},
   "outputs": [],
   "source": [
    "survival_prob"
   ]
  },
  {
   "cell_type": "code",
   "execution_count": null,
   "metadata": {},
   "outputs": [],
   "source": [
    "_t = survival_prob\n",
    "plt.plot(range(len(_t)), _t, 'bo-')"
   ]
  },
  {
   "cell_type": "code",
   "execution_count": null,
   "metadata": {},
   "outputs": [],
   "source": []
  },
  {
   "cell_type": "code",
   "execution_count": 6,
   "metadata": {},
   "outputs": [],
   "source": [
    "\n",
    "\n",
    "data_x=finaldata[[\"female\",\"baseline_age\",'white', 'chol', 'hdl', 'sbp',\n",
    "       'htnmed', 'cigarett']]\n",
    "data_y=finaldata[[\"event\",\"fu\"]]\n",
    "\n",
    "#print(data_y.head())\n",
    "#estimator = CoxPHSurvivalAnalysis()\n",
    "#estimator.fit(data_x_numeric, data_y)"
   ]
  },
  {
   "cell_type": "code",
   "execution_count": null,
   "metadata": {},
   "outputs": [],
   "source": []
  },
  {
   "cell_type": "code",
   "execution_count": null,
   "metadata": {},
   "outputs": [],
   "source": []
  },
  {
   "cell_type": "code",
   "execution_count": null,
   "metadata": {},
   "outputs": [],
   "source": []
  },
  {
   "cell_type": "code",
   "execution_count": null,
   "metadata": {},
   "outputs": [],
   "source": []
  },
  {
   "cell_type": "code",
   "execution_count": null,
   "metadata": {},
   "outputs": [],
   "source": []
  },
  {
   "cell_type": "code",
   "execution_count": null,
   "metadata": {},
   "outputs": [],
   "source": []
  },
  {
   "cell_type": "code",
   "execution_count": null,
   "metadata": {},
   "outputs": [],
   "source": []
  },
  {
   "cell_type": "code",
   "execution_count": null,
   "metadata": {},
   "outputs": [],
   "source": []
  },
  {
   "cell_type": "code",
   "execution_count": null,
   "metadata": {},
   "outputs": [],
   "source": []
  },
  {
   "cell_type": "code",
   "execution_count": null,
   "metadata": {},
   "outputs": [],
   "source": [
    "#a, b \n",
    "data_y = []\n",
    "\n",
    "for i in range(len(finaldata.fu)):\n",
    "    #finaldata.has_event[i]\n",
    "    #finaldata.fu[i]\n",
    "    data_y.append((finaldata.event[i],finaldata.fu[i]))\n",
    "    "
   ]
  },
  {
   "cell_type": "code",
   "execution_count": null,
   "metadata": {},
   "outputs": [],
   "source": []
  },
  {
   "cell_type": "code",
   "execution_count": null,
   "metadata": {},
   "outputs": [],
   "source": []
  },
  {
   "cell_type": "code",
   "execution_count": null,
   "metadata": {},
   "outputs": [],
   "source": []
  },
  {
   "cell_type": "code",
   "execution_count": null,
   "metadata": {},
   "outputs": [],
   "source": []
  },
  {
   "cell_type": "code",
   "execution_count": null,
   "metadata": {},
   "outputs": [],
   "source": [
    "data_y = np.array(data_y)\n",
    "int(data_y.event)\n",
    "pd.concat([data_y,pd.get_dummies(data_y[\"Event\"])],axis=1)"
   ]
  },
  {
   "cell_type": "code",
   "execution_count": 31,
   "metadata": {},
   "outputs": [
    {
     "data": {
      "text/html": [
       "<div>\n",
       "<style scoped>\n",
       "    .dataframe tbody tr th:only-of-type {\n",
       "        vertical-align: middle;\n",
       "    }\n",
       "\n",
       "    .dataframe tbody tr th {\n",
       "        vertical-align: top;\n",
       "    }\n",
       "\n",
       "    .dataframe thead th {\n",
       "        text-align: right;\n",
       "    }\n",
       "</style>\n",
       "<table border=\"1\" class=\"dataframe\">\n",
       "  <thead>\n",
       "    <tr style=\"text-align: right;\">\n",
       "      <th></th>\n",
       "      <th>event</th>\n",
       "      <th>fu</th>\n",
       "    </tr>\n",
       "  </thead>\n",
       "  <tbody>\n",
       "    <tr>\n",
       "      <th>0</th>\n",
       "      <td>0</td>\n",
       "      <td>10.000000</td>\n",
       "    </tr>\n",
       "    <tr>\n",
       "      <th>1</th>\n",
       "      <td>0</td>\n",
       "      <td>10.000000</td>\n",
       "    </tr>\n",
       "    <tr>\n",
       "      <th>2</th>\n",
       "      <td>0</td>\n",
       "      <td>2.004107</td>\n",
       "    </tr>\n",
       "    <tr>\n",
       "      <th>3</th>\n",
       "      <td>0</td>\n",
       "      <td>8.342231</td>\n",
       "    </tr>\n",
       "    <tr>\n",
       "      <th>4</th>\n",
       "      <td>0</td>\n",
       "      <td>9.776865</td>\n",
       "    </tr>\n",
       "  </tbody>\n",
       "</table>\n",
       "</div>"
      ],
      "text/plain": [
       "   event         fu\n",
       "0      0  10.000000\n",
       "1      0  10.000000\n",
       "2      0   2.004107\n",
       "3      0   8.342231\n",
       "4      0   9.776865"
      ]
     },
     "execution_count": 31,
     "metadata": {},
     "output_type": "execute_result"
    }
   ],
   "source": [
    "data_y.head()"
   ]
  },
  {
   "cell_type": "code",
   "execution_count": 15,
   "metadata": {},
   "outputs": [],
   "source": [
    "data_y_copy = data_y.copy()\n",
    "\n",
    "data_y_copy['event'] = data_y_copy['event'].apply(lambda x: True if x==1 else False)"
   ]
  },
  {
   "cell_type": "code",
   "execution_count": 34,
   "metadata": {},
   "outputs": [
    {
     "data": {
      "text/html": [
       "<div>\n",
       "<style scoped>\n",
       "    .dataframe tbody tr th:only-of-type {\n",
       "        vertical-align: middle;\n",
       "    }\n",
       "\n",
       "    .dataframe tbody tr th {\n",
       "        vertical-align: top;\n",
       "    }\n",
       "\n",
       "    .dataframe thead th {\n",
       "        text-align: right;\n",
       "    }\n",
       "</style>\n",
       "<table border=\"1\" class=\"dataframe\">\n",
       "  <thead>\n",
       "    <tr style=\"text-align: right;\">\n",
       "      <th></th>\n",
       "      <th>event</th>\n",
       "      <th>fu</th>\n",
       "    </tr>\n",
       "  </thead>\n",
       "  <tbody>\n",
       "    <tr>\n",
       "      <th>0</th>\n",
       "      <td>False</td>\n",
       "      <td>10.000000</td>\n",
       "    </tr>\n",
       "    <tr>\n",
       "      <th>1</th>\n",
       "      <td>False</td>\n",
       "      <td>10.000000</td>\n",
       "    </tr>\n",
       "    <tr>\n",
       "      <th>2</th>\n",
       "      <td>False</td>\n",
       "      <td>2.004107</td>\n",
       "    </tr>\n",
       "    <tr>\n",
       "      <th>3</th>\n",
       "      <td>False</td>\n",
       "      <td>8.342231</td>\n",
       "    </tr>\n",
       "    <tr>\n",
       "      <th>4</th>\n",
       "      <td>False</td>\n",
       "      <td>9.776865</td>\n",
       "    </tr>\n",
       "  </tbody>\n",
       "</table>\n",
       "</div>"
      ],
      "text/plain": [
       "   event         fu\n",
       "0  False  10.000000\n",
       "1  False  10.000000\n",
       "2  False   2.004107\n",
       "3  False   8.342231\n",
       "4  False   9.776865"
      ]
     },
     "execution_count": 34,
     "metadata": {},
     "output_type": "execute_result"
    }
   ],
   "source": [
    "data_y_copy.head()"
   ]
  },
  {
   "cell_type": "code",
   "execution_count": 40,
   "metadata": {},
   "outputs": [
    {
     "name": "stdout",
     "output_type": "stream",
     "text": [
      "(6581, 2)\n"
     ]
    }
   ],
   "source": [
    "_t = data_y_copy.values\n",
    "print(_t.shape)"
   ]
  },
  {
   "cell_type": "code",
   "execution_count": 41,
   "metadata": {},
   "outputs": [
    {
     "data": {
      "text/plain": [
       "array([(False, 10.        ), (False, 10.        ), (False,  2.00410678),\n",
       "       ..., (False, 10.        ), (False,  4.04106776),\n",
       "       (False,  5.99315537)],\n",
       "      dtype=[('Status', '?'), ('Survival_in_years', '<f8')])"
      ]
     },
     "execution_count": 41,
     "metadata": {},
     "output_type": "execute_result"
    }
   ],
   "source": [
    "_t = np.array([tuple(ele) for ele in _t], dtype=[('Status', '?'), ('Survival_in_years', '<f8')])\n",
    "_t"
   ]
  },
  {
   "cell_type": "code",
   "execution_count": 42,
   "metadata": {},
   "outputs": [
    {
     "data": {
      "text/plain": [
       "CoxPHSurvivalAnalysis(alpha=0, n_iter=100, tol=1e-09, verbose=0)"
      ]
     },
     "execution_count": 42,
     "metadata": {},
     "output_type": "execute_result"
    }
   ],
   "source": [
    "estimator = CoxPHSurvivalAnalysis()\n",
    "estimator.fit(data_x, _t)"
   ]
  },
  {
   "cell_type": "code",
   "execution_count": 45,
   "metadata": {},
   "outputs": [],
   "source": [
    "pred_surv = estimator.predict_survival_function(data_x)"
   ]
  },
  {
   "cell_type": "code",
   "execution_count": 46,
   "metadata": {},
   "outputs": [
    {
     "data": {
      "text/plain": [
       "<matplotlib.legend.Legend at 0x1a1d107d30>"
      ]
     },
     "execution_count": 46,
     "metadata": {},
     "output_type": "execute_result"
    },
    {
     "data": {
      "image/png": "[encoded data removed]",
      "text/plain": [
       "<Figure size 432x288 with 1 Axes>"
      ]
     },
     "metadata": {
      "needs_background": "light"
     },
     "output_type": "display_data"
    }
   ],
   "source": [
    " for i, c in enumerate(pred_surv[:10]):\n",
    "    plt.step(c.x, c.y, where=\"post\", label=\"Sample %d\" % (i + 1))\n",
    "plt.ylabel(\"est. probability of survival $\\hat{S}(t)$\")\n",
    "plt.xlabel(\"time $t$\")\n",
    "plt.legend(loc=\"best\")"
   ]
  },
  {
   "cell_type": "code",
   "execution_count": 49,
   "metadata": {},
   "outputs": [
    {
     "data": {
      "text/plain": [
       "0.6248248337670117"
      ]
     },
     "execution_count": 49,
     "metadata": {},
     "output_type": "execute_result"
    }
   ],
   "source": [
    "prediction = estimator.predict(data_x)\n",
    "result = concordance_index_censored(data_y_copy[\"event\"], data_y[\"fu\"], prediction)\n",
    "result[0]"
   ]
  },
  {
   "cell_type": "code",
   "execution_count": 50,
   "metadata": {},
   "outputs": [
    {
     "data": {
      "text/html": [
       "<div>\n",
       "<style scoped>\n",
       "    .dataframe tbody tr th:only-of-type {\n",
       "        vertical-align: middle;\n",
       "    }\n",
       "\n",
       "    .dataframe tbody tr th {\n",
       "        vertical-align: top;\n",
       "    }\n",
       "\n",
       "    .dataframe thead th {\n",
       "        text-align: right;\n",
       "    }\n",
       "</style>\n",
       "<table border=\"1\" class=\"dataframe\">\n",
       "  <thead>\n",
       "    <tr style=\"text-align: right;\">\n",
       "      <th></th>\n",
       "      <th>MaskID</th>\n",
       "      <th>female</th>\n",
       "      <th>baseline_age</th>\n",
       "      <th>white</th>\n",
       "      <th>chol</th>\n",
       "      <th>hdl</th>\n",
       "      <th>sbp</th>\n",
       "      <th>htnmed</th>\n",
       "      <th>cigarett</th>\n",
       "      <th>event</th>\n",
       "      <th>fu</th>\n",
       "    </tr>\n",
       "  </thead>\n",
       "  <tbody>\n",
       "    <tr>\n",
       "      <th>0</th>\n",
       "      <td>100001.0</td>\n",
       "      <td>0.0</td>\n",
       "      <td>60.8</td>\n",
       "      <td>1.0</td>\n",
       "      <td>189.0</td>\n",
       "      <td>51.0</td>\n",
       "      <td>127.0</td>\n",
       "      <td>1.0</td>\n",
       "      <td>0.0</td>\n",
       "      <td>0</td>\n",
       "      <td>10.000000</td>\n",
       "    </tr>\n",
       "    <tr>\n",
       "      <th>1</th>\n",
       "      <td>100002.0</td>\n",
       "      <td>1.0</td>\n",
       "      <td>55.0</td>\n",
       "      <td>1.0</td>\n",
       "      <td>188.0</td>\n",
       "      <td>47.0</td>\n",
       "      <td>109.0</td>\n",
       "      <td>1.0</td>\n",
       "      <td>0.0</td>\n",
       "      <td>0</td>\n",
       "      <td>10.000000</td>\n",
       "    </tr>\n",
       "    <tr>\n",
       "      <th>2</th>\n",
       "      <td>100003.0</td>\n",
       "      <td>1.0</td>\n",
       "      <td>57.3</td>\n",
       "      <td>0.0</td>\n",
       "      <td>270.0</td>\n",
       "      <td>41.0</td>\n",
       "      <td>143.0</td>\n",
       "      <td>1.0</td>\n",
       "      <td>1.0</td>\n",
       "      <td>0</td>\n",
       "      <td>2.004107</td>\n",
       "    </tr>\n",
       "    <tr>\n",
       "      <th>3</th>\n",
       "      <td>100004.0</td>\n",
       "      <td>1.0</td>\n",
       "      <td>72.5</td>\n",
       "      <td>1.0</td>\n",
       "      <td>205.0</td>\n",
       "      <td>38.0</td>\n",
       "      <td>114.0</td>\n",
       "      <td>1.0</td>\n",
       "      <td>0.0</td>\n",
       "      <td>0</td>\n",
       "      <td>8.342231</td>\n",
       "    </tr>\n",
       "    <tr>\n",
       "      <th>4</th>\n",
       "      <td>100006.0</td>\n",
       "      <td>1.0</td>\n",
       "      <td>56.7</td>\n",
       "      <td>1.0</td>\n",
       "      <td>317.0</td>\n",
       "      <td>41.0</td>\n",
       "      <td>133.0</td>\n",
       "      <td>1.0</td>\n",
       "      <td>0.0</td>\n",
       "      <td>0</td>\n",
       "      <td>9.776865</td>\n",
       "    </tr>\n",
       "  </tbody>\n",
       "</table>\n",
       "</div>"
      ],
      "text/plain": [
       "     MaskID  female  baseline_age  white   chol   hdl    sbp  htnmed  \\\n",
       "0  100001.0     0.0          60.8    1.0  189.0  51.0  127.0     1.0   \n",
       "1  100002.0     1.0          55.0    1.0  188.0  47.0  109.0     1.0   \n",
       "2  100003.0     1.0          57.3    0.0  270.0  41.0  143.0     1.0   \n",
       "3  100004.0     1.0          72.5    1.0  205.0  38.0  114.0     1.0   \n",
       "4  100006.0     1.0          56.7    1.0  317.0  41.0  133.0     1.0   \n",
       "\n",
       "   cigarett  event         fu  \n",
       "0       0.0      0  10.000000  \n",
       "1       0.0      0  10.000000  \n",
       "2       1.0      0   2.004107  \n",
       "3       0.0      0   8.342231  \n",
       "4       0.0      0   9.776865  "
      ]
     },
     "execution_count": 50,
     "metadata": {},
     "output_type": "execute_result"
    }
   ],
   "source": [
    "finaldata.head()"
   ]
  },
  {
   "cell_type": "code",
   "execution_count": 68,
   "metadata": {},
   "outputs": [],
   "source": [
    "def cal_10yrs_risk_score(input_data):\n",
    "    data = input_data.copy() # May cause trouble if the data size is too big...\n",
    "    \n",
    "    # Adjust bsurvrw:\n",
    "    _col = 'bsurvrw'\n",
    "    data[_col] = 0.0\n",
    "    \n",
    "    data.loc[(data['white']==1)&(data['female']==0), _col] = 0.9144\n",
    "    data.loc[(data['white']==0)&(data['female']==0), _col] = 0.8954\n",
    "    data.loc[(data['white']==1)&(data['female']==1), _col] = 0.9665\n",
    "    data.loc[(data['white']==0)&(data['female']==1), _col] = 0.9533\n",
    "    \n",
    "    # Adjust bsurvrw:\n",
    "    _col = 'bxave_rw'\n",
    "    data[_col] = 0.0\n",
    "    \n",
    "    data.loc[(data['white']==1)&(data['female']==0), _col] = 61.18\n",
    "    data.loc[(data['white']==0)&(data['female']==0), _col] = 19.54\n",
    "    data.loc[(data['white']==1)&(data['female']==1), _col] = -29.18\n",
    "    data.loc[(data['white']==0)&(data['female']==1), _col] = 86.61\n",
    "    \n",
    "    # Calculate bxrw:\n",
    "    # meta feature:\n",
    "    data['lsbp_trt'] = data.apply(lambda x: np.log(x['sbp']) if x['htnmed']==1 else 0.0, axis=1)\n",
    "    data['lsbp_untrt'] = data.apply(lambda x: np.log(x['sbp']) if x['htnmed']==0 else 0.0, axis=1)\n",
    "    \n",
    "    _col = 'bxrw'\n",
    "    data[_col] = 0.0\n",
    "    \n",
    "    _index = data[(data['white']==1)&(data['female']==0)].index\n",
    "    _tmp_data = data.loc[_index]\n",
    "    _res = 12.344*np.log(_tmp_data['baseline_age']) + \\\n",
    "           11.853*np.log(_tmp_data['chol']) - \\\n",
    "           2.664*np.log(_tmp_data['chol'])*np.log(_tmp_data['baseline_age']) - \\\n",
    "           7.990*np.log(_tmp_data['hdl']) + \\\n",
    "           1.769*np.log(_tmp_data['hdl']) * np.log(_tmp_data['baseline_age']) + \\\n",
    "           1.797*_tmp_data['lsbp_trt'] + \\\n",
    "           1.764*_tmp_data['lsbp_untrt'] + \\\n",
    "           7.837*_tmp_data['cigarett'] - \\\n",
    "           1.795*_tmp_data['cigarett']*np.log(_tmp_data['baseline_age']) + 0.658\n",
    "    data.loc[_index, _col] = _res.squeeze()\n",
    "                                                   \n",
    "    _index = data[(data['white']==0)&(data['female']==0)].index\n",
    "    _tmp_data = data.loc[_index]\n",
    "    _res = 2.469*np.log(_tmp_data['baseline_age']) + \\\n",
    "           0.302*np.log(_tmp_data['chol']) - \\\n",
    "           0.307*np.log(_tmp_data['hdl']) + \\\n",
    "           1.916*_tmp_data['lsbp_trt'] + \\\n",
    "           1.809*_tmp_data['lsbp_untrt'] + \\\n",
    "           0.549*_tmp_data['cigarett'] + 0.645\n",
    "    data.loc[_index, _col] = _res.squeeze()\n",
    "                        \n",
    "    index = data[(data['white']==1)&(data['female']==1)].index\n",
    "    _tmp_data = data.loc[_index]\n",
    "    _res = -29.799*np.log(_tmp_data['baseline_age']) + \\\n",
    "           4.884*np.log(_tmp_data['baseline_age']) ** 2 + \\\n",
    "           13.540*np.log(_tmp_data['chol']) - \\\n",
    "           3.114*np.log(_tmp_data['chol'])*np.log(_tmp_data['baseline_age']) - \\\n",
    "           13.578*np.log(_tmp_data['hdl']) + \\\n",
    "           3.149*np.log(_tmp_data['hdl']) * np.log(_tmp_data['baseline_age']) + \\\n",
    "           2.019*_tmp_data['lsbp_trt'] + \\\n",
    "           1.957*_tmp_data['lsbp_untrt'] + \\\n",
    "           7.574*_tmp_data['cigarett'] - \\\n",
    "           1.665*_tmp_data['cigarett']*np.log(_tmp_data['baseline_age']) + 0.661\n",
    "    data.loc[_index, _col] = _res.squeeze()\n",
    "                          \n",
    "    index = data[(data['white']==0)&(data['female']==1)].index\n",
    "    _tmp_data = data.loc[_index]\n",
    "    _res = 17.114*np.log(_tmp_data['baseline_age']) + \\\n",
    "           0.940*np.log(_tmp_data['chol']) - \\\n",
    "           18.920*np.log(_tmp_data['hdl']) + \\\n",
    "           4.475*np.log(_tmp_data['hdl'])*np.log(_tmp_data['baseline_age']) + \\\n",
    "           29.291*_tmp_data['lsbp_trt'] - \\\n",
    "           6.432*_tmp_data['lsbp_trt']*np.log(_tmp_data['baseline_age']) + \\\n",
    "           27.820*_tmp_data['lsbp_untrt'] - \\\n",
    "           6.087*_tmp_data['lsbp_untrt']*np.log(_tmp_data['baseline_age']) + \\\n",
    "           0.691*_tmp_data['cigarett'] + 0.874\n",
    "    data.loc[_index, _col] = _res.squeeze()\n",
    "                         \n",
    "    data['survrw'] = data['bsurvrw'] ** np.exp(data['bxrw']-data['bxave_rw'])\n",
    "    data['probrw'] = 1.0 - data['survrw']\n",
    "    data['ascvdrs'] = 100.0 * data['probrw']\n",
    "                         \n",
    "    return data"
   ]
  },
  {
   "cell_type": "code",
   "execution_count": 69,
   "metadata": {},
   "outputs": [],
   "source": [
    "_t = cal_10yrs_risk_score(data_x)"
   ]
  },
  {
   "cell_type": "code",
   "execution_count": 70,
   "metadata": {},
   "outputs": [
    {
     "data": {
      "text/html": [
       "<div>\n",
       "<style scoped>\n",
       "    .dataframe tbody tr th:only-of-type {\n",
       "        vertical-align: middle;\n",
       "    }\n",
       "\n",
       "    .dataframe tbody tr th {\n",
       "        vertical-align: top;\n",
       "    }\n",
       "\n",
       "    .dataframe thead th {\n",
       "        text-align: right;\n",
       "    }\n",
       "</style>\n",
       "<table border=\"1\" class=\"dataframe\">\n",
       "  <thead>\n",
       "    <tr style=\"text-align: right;\">\n",
       "      <th></th>\n",
       "      <th>female</th>\n",
       "      <th>baseline_age</th>\n",
       "      <th>white</th>\n",
       "      <th>chol</th>\n",
       "      <th>hdl</th>\n",
       "      <th>sbp</th>\n",
       "      <th>htnmed</th>\n",
       "      <th>cigarett</th>\n",
       "      <th>bsurvrw</th>\n",
       "      <th>bxave_rw</th>\n",
       "      <th>lsbp_trt</th>\n",
       "      <th>lsbp_untrt</th>\n",
       "      <th>bxrw</th>\n",
       "      <th>survrw</th>\n",
       "      <th>probrw</th>\n",
       "      <th>ascvdrs</th>\n",
       "    </tr>\n",
       "  </thead>\n",
       "  <tbody>\n",
       "    <tr>\n",
       "      <th>count</th>\n",
       "      <td>6581.000000</td>\n",
       "      <td>6581.000000</td>\n",
       "      <td>6581.000000</td>\n",
       "      <td>6581.000000</td>\n",
       "      <td>6581.000000</td>\n",
       "      <td>6581.000000</td>\n",
       "      <td>6581.000000</td>\n",
       "      <td>6581.000000</td>\n",
       "      <td>6581.000000</td>\n",
       "      <td>6581.000000</td>\n",
       "      <td>6581.000000</td>\n",
       "      <td>6581.000000</td>\n",
       "      <td>6581.000000</td>\n",
       "      <td>6581.000000</td>\n",
       "      <td>6581.000000</td>\n",
       "      <td>6581.000000</td>\n",
       "    </tr>\n",
       "    <tr>\n",
       "      <th>mean</th>\n",
       "      <td>0.441270</td>\n",
       "      <td>62.854931</td>\n",
       "      <td>0.607506</td>\n",
       "      <td>186.528035</td>\n",
       "      <td>43.008965</td>\n",
       "      <td>136.451299</td>\n",
       "      <td>0.800030</td>\n",
       "      <td>0.132047</td>\n",
       "      <td>0.931074</td>\n",
       "      <td>35.942238</td>\n",
       "      <td>3.929818</td>\n",
       "      <td>0.979061</td>\n",
       "      <td>39.952056</td>\n",
       "      <td>0.452282</td>\n",
       "      <td>0.547718</td>\n",
       "      <td>54.771778</td>\n",
       "    </tr>\n",
       "    <tr>\n",
       "      <th>std</th>\n",
       "      <td>0.496577</td>\n",
       "      <td>5.874120</td>\n",
       "      <td>0.488343</td>\n",
       "      <td>39.982933</td>\n",
       "      <td>11.528480</td>\n",
       "      <td>16.207562</td>\n",
       "      <td>0.400008</td>\n",
       "      <td>0.338567</td>\n",
       "      <td>0.027462</td>\n",
       "      <td>42.733972</td>\n",
       "      <td>1.967860</td>\n",
       "      <td>1.959086</td>\n",
       "      <td>36.686286</td>\n",
       "      <td>0.422469</td>\n",
       "      <td>0.422469</td>\n",
       "      <td>42.246866</td>\n",
       "    </tr>\n",
       "    <tr>\n",
       "      <th>min</th>\n",
       "      <td>0.000000</td>\n",
       "      <td>51.300000</td>\n",
       "      <td>0.000000</td>\n",
       "      <td>95.000000</td>\n",
       "      <td>19.000000</td>\n",
       "      <td>92.000000</td>\n",
       "      <td>0.000000</td>\n",
       "      <td>0.000000</td>\n",
       "      <td>0.895400</td>\n",
       "      <td>-29.180000</td>\n",
       "      <td>0.000000</td>\n",
       "      <td>0.000000</td>\n",
       "      <td>0.000000</td>\n",
       "      <td>0.000000</td>\n",
       "      <td>0.000000</td>\n",
       "      <td>0.000000</td>\n",
       "    </tr>\n",
       "    <tr>\n",
       "      <th>25%</th>\n",
       "      <td>0.000000</td>\n",
       "      <td>58.000000</td>\n",
       "      <td>0.000000</td>\n",
       "      <td>158.000000</td>\n",
       "      <td>35.000000</td>\n",
       "      <td>125.000000</td>\n",
       "      <td>1.000000</td>\n",
       "      <td>0.000000</td>\n",
       "      <td>0.914400</td>\n",
       "      <td>19.540000</td>\n",
       "      <td>4.718499</td>\n",
       "      <td>0.000000</td>\n",
       "      <td>0.000000</td>\n",
       "      <td>0.000000</td>\n",
       "      <td>0.161157</td>\n",
       "      <td>16.115682</td>\n",
       "    </tr>\n",
       "    <tr>\n",
       "      <th>50%</th>\n",
       "      <td>0.000000</td>\n",
       "      <td>61.800000</td>\n",
       "      <td>1.000000</td>\n",
       "      <td>183.000000</td>\n",
       "      <td>41.000000</td>\n",
       "      <td>136.000000</td>\n",
       "      <td>1.000000</td>\n",
       "      <td>0.000000</td>\n",
       "      <td>0.914400</td>\n",
       "      <td>61.180000</td>\n",
       "      <td>4.875197</td>\n",
       "      <td>0.000000</td>\n",
       "      <td>61.885677</td>\n",
       "      <td>0.576880</td>\n",
       "      <td>0.423120</td>\n",
       "      <td>42.311964</td>\n",
       "    </tr>\n",
       "    <tr>\n",
       "      <th>75%</th>\n",
       "      <td>1.000000</td>\n",
       "      <td>66.500000</td>\n",
       "      <td>1.000000</td>\n",
       "      <td>211.000000</td>\n",
       "      <td>49.000000</td>\n",
       "      <td>147.000000</td>\n",
       "      <td>1.000000</td>\n",
       "      <td>0.000000</td>\n",
       "      <td>0.953300</td>\n",
       "      <td>61.180000</td>\n",
       "      <td>4.969813</td>\n",
       "      <td>0.000000</td>\n",
       "      <td>63.025671</td>\n",
       "      <td>0.838843</td>\n",
       "      <td>1.000000</td>\n",
       "      <td>100.000000</td>\n",
       "    </tr>\n",
       "    <tr>\n",
       "      <th>max</th>\n",
       "      <td>1.000000</td>\n",
       "      <td>79.300000</td>\n",
       "      <td>1.000000</td>\n",
       "      <td>317.000000</td>\n",
       "      <td>92.000000</td>\n",
       "      <td>179.000000</td>\n",
       "      <td>1.000000</td>\n",
       "      <td>1.000000</td>\n",
       "      <td>0.966500</td>\n",
       "      <td>86.610000</td>\n",
       "      <td>5.187386</td>\n",
       "      <td>5.187386</td>\n",
       "      <td>89.996601</td>\n",
       "      <td>1.000000</td>\n",
       "      <td>1.000000</td>\n",
       "      <td>100.000000</td>\n",
       "    </tr>\n",
       "  </tbody>\n",
       "</table>\n",
       "</div>"
      ],
      "text/plain": [
       "            female  baseline_age        white         chol          hdl  \\\n",
       "count  6581.000000   6581.000000  6581.000000  6581.000000  6581.000000   \n",
       "mean      0.441270     62.854931     0.607506   186.528035    43.008965   \n",
       "std       0.496577      5.874120     0.488343    39.982933    11.528480   \n",
       "min       0.000000     51.300000     0.000000    95.000000    19.000000   \n",
       "25%       0.000000     58.000000     0.000000   158.000000    35.000000   \n",
       "50%       0.000000     61.800000     1.000000   183.000000    41.000000   \n",
       "75%       1.000000     66.500000     1.000000   211.000000    49.000000   \n",
       "max       1.000000     79.300000     1.000000   317.000000    92.000000   \n",
       "\n",
       "               sbp       htnmed     cigarett      bsurvrw     bxave_rw  \\\n",
       "count  6581.000000  6581.000000  6581.000000  6581.000000  6581.000000   \n",
       "mean    136.451299     0.800030     0.132047     0.931074    35.942238   \n",
       "std      16.207562     0.400008     0.338567     0.027462    42.733972   \n",
       "min      92.000000     0.000000     0.000000     0.895400   -29.180000   \n",
       "25%     125.000000     1.000000     0.000000     0.914400    19.540000   \n",
       "50%     136.000000     1.000000     0.000000     0.914400    61.180000   \n",
       "75%     147.000000     1.000000     0.000000     0.953300    61.180000   \n",
       "max     179.000000     1.000000     1.000000     0.966500    86.610000   \n",
       "\n",
       "          lsbp_trt   lsbp_untrt         bxrw       survrw       probrw  \\\n",
       "count  6581.000000  6581.000000  6581.000000  6581.000000  6581.000000   \n",
       "mean      3.929818     0.979061    39.952056     0.452282     0.547718   \n",
       "std       1.967860     1.959086    36.686286     0.422469     0.422469   \n",
       "min       0.000000     0.000000     0.000000     0.000000     0.000000   \n",
       "25%       4.718499     0.000000     0.000000     0.000000     0.161157   \n",
       "50%       4.875197     0.000000    61.885677     0.576880     0.423120   \n",
       "75%       4.969813     0.000000    63.025671     0.838843     1.000000   \n",
       "max       5.187386     5.187386    89.996601     1.000000     1.000000   \n",
       "\n",
       "           ascvdrs  \n",
       "count  6581.000000  \n",
       "mean     54.771778  \n",
       "std      42.246866  \n",
       "min       0.000000  \n",
       "25%      16.115682  \n",
       "50%      42.311964  \n",
       "75%     100.000000  \n",
       "max     100.000000  "
      ]
     },
     "execution_count": 70,
     "metadata": {},
     "output_type": "execute_result"
    }
   ],
   "source": [
    "_t.describe()"
   ]
  },
  {
   "cell_type": "code",
   "execution_count": 72,
   "metadata": {},
   "outputs": [
    {
     "data": {
      "text/plain": [
       "100.000000    2897\n",
       "0.000000      1295\n",
       "24.385988        2\n",
       "20.595750        1\n",
       "48.048326        1\n",
       "35.622436        1\n",
       "58.772985        1\n",
       "14.382461        1\n",
       "44.597480        1\n",
       "17.688504        1\n",
       "25.713225        1\n",
       "22.811197        1\n",
       "24.024695        1\n",
       "36.052529        1\n",
       "19.647101        1\n",
       "10.642455        1\n",
       "62.368560        1\n",
       "35.089957        1\n",
       "49.570705        1\n",
       "16.916366        1\n",
       "14.390991        1\n",
       "12.689712        1\n",
       "37.312714        1\n",
       "40.614524        1\n",
       "31.171679        1\n",
       "42.572136        1\n",
       "43.828964        1\n",
       "17.533872        1\n",
       "27.837329        1\n",
       "23.210005        1\n",
       "              ... \n",
       "42.175355        1\n",
       "28.753630        1\n",
       "15.550625        1\n",
       "56.723165        1\n",
       "35.503105        1\n",
       "58.278243        1\n",
       "24.043885        1\n",
       "17.302482        1\n",
       "18.190866        1\n",
       "29.564129        1\n",
       "70.088107        1\n",
       "50.080562        1\n",
       "23.338442        1\n",
       "13.673822        1\n",
       "6.566328         1\n",
       "18.135965        1\n",
       "55.805375        1\n",
       "29.392632        1\n",
       "32.877614        1\n",
       "15.767548        1\n",
       "12.349953        1\n",
       "41.713536        1\n",
       "36.033534        1\n",
       "58.805665        1\n",
       "26.481579        1\n",
       "17.589316        1\n",
       "40.389004        1\n",
       "11.762675        1\n",
       "43.254886        1\n",
       "17.466817        1\n",
       "Name: ascvdrs, Length: 2390, dtype: int64"
      ]
     },
     "execution_count": 72,
     "metadata": {},
     "output_type": "execute_result"
    }
   ],
   "source": [
    "_t['ascvdrs'].value_counts()"
   ]
  },
  {
   "cell_type": "code",
   "execution_count": 73,
   "metadata": {},
   "outputs": [
    {
     "name": "stdout",
     "output_type": "stream",
     "text": [
      "/Users/helloniki77/Documents/ACCORD\r\n"
     ]
    }
   ],
   "source": [
    "!pwd"
   ]
  },
  {
   "cell_type": "code",
   "execution_count": null,
   "metadata": {},
   "outputs": [],
   "source": []
  }
 ],
 "metadata": {
  "kernelspec": {
   "display_name": "Python 3",
   "language": "python",
   "name": "python3"
  },
  "language_info": {
   "codemirror_mode": {
    "name": "ipython",
    "version": 3
   },
   "file_extension": ".py",
   "mimetype": "text/x-python",
   "name": "python",
   "nbconvert_exporter": "python",
   "pygments_lexer": "ipython3",
   "version": "3.7.1"
  }
 },
 "nbformat": 4,
 "nbformat_minor": 2
}
